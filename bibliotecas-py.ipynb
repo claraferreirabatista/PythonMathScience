{
 "cells": [
  {
   "cell_type": "markdown",
   "metadata": {},
   "source": [
    "## Recomendo que antes de \"rodar\" o notebook realize a instalação das bibliotecas abaixo, ou seja, só descomentar e \"rodar\" \n",
    "\n",
    "### Documentação de Bibliotecas\n",
    "\n",
    "- [SymPy](https://docs.sympy.org/latest/index.html)\n",
    "- [SciPy](https://docs.scipy.org/doc/scipy/)\n",
    "- [NumPy](https://numpy.org/doc/stable/)\n",
    "- [SageMath](https://doc.sagemath.org/html/pt/tutorial/)\n",
    "- [GMPY2](https://gmpy2.readthedocs.io/en/latest/)\n",
    "- [Python - Biblioteca Math](https://docs.python.org/pt-br/3/library/math.html)\n",
    "- [MPMath](https://mpmath.org/doc/current/)\n",
    "- [TensorFlow](https://www.tensorflow.org/learn?hl=pt-br)"
   ]
  },
  {
   "cell_type": "code",
   "execution_count": null,
   "metadata": {},
   "outputs": [],
   "source": [
    "\"\"\"\n",
    "! pip install sympy\n",
    "! pip install scipy\n",
    "! pip install numpy\n",
    "! pip install sagemath\n",
    "! pip install gmpy2\n",
    "! pip install mpmath\n",
    "! pip install tensorflow\n",
    "\"\"\""
   ]
  },
  {
   "cell_type": "code",
   "execution_count": null,
   "metadata": {},
   "outputs": [],
   "source": [
    "import sympy as sp\n",
    "import scipy as sc\n",
    "import numpy as np\n",
    "import gmpy2 as gm\n",
    "import math as m\n",
    "import mpmath as mp\n",
    "import tensorflow as tf\n",
    "import sage as sg"
   ]
  },
  {
   "cell_type": "markdown",
   "metadata": {},
   "source": [
    "\n"
   ]
  }
 ],
 "metadata": {
  "kernelspec": {
   "display_name": "Python 3",
   "language": "python",
   "name": "python3"
  },
  "language_info": {
   "codemirror_mode": {
    "name": "ipython",
    "version": 3
   },
   "file_extension": ".py",
   "mimetype": "text/x-python",
   "name": "python",
   "nbconvert_exporter": "python",
   "pygments_lexer": "ipython3",
   "version": "3.10.12"
  }
 },
 "nbformat": 4,
 "nbformat_minor": 2
}
